{
 "cells": [
  {
   "cell_type": "markdown",
   "metadata": {},
   "source": [
    "# Prosjekt 3 - Kompakte stjerner\n",
    "---\n"
   ]
  },
  {
   "cell_type": "code",
   "execution_count": null,
   "metadata": {},
   "outputs": [],
   "source": [
    "#Theme installation, uncomment to install\n",
    "#Documentation: https://pypi.org/project/jupyterthemes/\n",
    "#!pip install jupyterthemes\n",
    "#!jt -t solarizedl -T -N -tf merriserif -tfs 11 -nf merriserif -nfs 11\n",
    "#Reset command: !jt -r"
   ]
  },
  {
   "cell_type": "markdown",
   "metadata": {},
   "source": [
    "Cell below is to import diagonal cancel lines in markdown mode"
   ]
  },
  {
   "cell_type": "code",
   "execution_count": null,
   "metadata": {},
   "outputs": [],
   "source": [
    "%%javascript\n",
    "MathJax.Extension[\"TeX/cancel\"]={version:\"2.4.0\",ALLOWED:{color:1,mathcolor:1,background:1,mathbackground:1,padding:2,thickness:0.3}};MathJax.Hub.Register.StartupHook(\"TeX Jax Ready\",function(){var c=MathJax.InputJax.TeX,a=MathJax.ElementJax.mml,b=MathJax.Extension[\"TeX/cancel\"];b.setAttributes=function(h,e){if(e!==\"\"){e=e.replace(/ /g,\"\").split(/,/);for(var g=0,d=e.length;g<d;g++){var f=e[g].split(/[:=]/);if(b.ALLOWED[f[0]]){if(f[1]===\"true\"){f[1]=true}if(f[1]===\"false\"){f[1]=false}h[f[0]]=f[1]}}}return h};c.Definitions.Add({macros:{cancel:[\"Cancel\",a.NOTATION.UPDIAGONALSTRIKE],bcancel:[\"Cancel\",a.NOTATION.DOWNDIAGONALSTRIKE],xcancel:[\"Cancel\",a.NOTATION.UPDIAGONALSTRIKE+\" \"+a.NOTATION.DOWNDIAGONALSTRIKE],cancelto:\"CancelTo\"}},null,true);c.Parse.Augment({Cancel:function(e,g){var d=this.GetBrackets(e,\"\"),f=this.ParseArg(e);var h=b.setAttributes({notation:g},d);this.Push(a.menclose(f).With(h))},CancelTo:function(e,g){var i=this.ParseArg(e),d=this.GetBrackets(e,\"\"),f=this.ParseArg(e);var h=b.setAttributes({notation:a.NOTATION.UPDIAGONALSTRIKE+\" \"+a.NOTATION.UPDIAGONALARROW},d);i=a.mpadded(i).With({depth:\"-.1em\",height:\"+.1em\",voffset:\".1em\"});this.Push(a.msup(a.menclose(f).With(h),i))}});MathJax.Hub.Startup.signal.Post(\"TeX cancel Ready\")});MathJax.Ajax.loadComplete(\"[MathJax]/extensions/TeX/cancel.js\");"
   ]
  },
  {
   "cell_type": "markdown",
   "metadata": {},
   "source": [
    "$$\n",
    "4x+\\cancel{2} = \\cancel{2}+3\n",
    "$$"
   ]
  },
  {
   "cell_type": "markdown",
   "metadata": {},
   "source": [
    "$$\n",
    "\\cancelto{3}{4x}\n",
    "$$"
   ]
  },
  {
   "cell_type": "markdown",
   "metadata": {},
   "source": [
    "$$\n",
    "\\mathrm{insert}\\,\\mathrm{equation} \\tag*{(1)}\n",
    "$$\n",
    "\n",
    "...\n",
    "\n",
    "$$\n",
    "2+3=5 \\square\n",
    "$$"
   ]
  },
  {
   "cell_type": "markdown",
   "metadata": {},
   "source": [
    "## Huskeliste før commits\n",
    "* **Har du husket ```Restart Kernel & Clear Output```?**\n",
    "* Har du passet på å pulle nyeste commit fra master?\n",
    "* Når du comitter:\n",
    "    * Ha en beskrivende commit melding\n",
    "    * Hvis du får merge conflict og er usikker på hva som skal beholdes, skal alle se på det sammen\n",
    "    * Sjekk alltid at du har ```working tree clean``` på git før du avslutter"
   ]
  },
  {
   "cell_type": "markdown",
   "metadata": {},
   "source": [
    "<div class=\"text-center\">\n",
    "  <button class=\"alert alert-info\">Oppgave 1a</button>\n",
    "</div>"
   ]
  },
  {
   "cell_type": "markdown",
   "metadata": {},
   "source": [
    "Vi antar en tilstandsligning for systemet vårt\n",
    "\n",
    "$$\n",
    "P = K \\epsilon^{\\,\\gamma}, \\quad \\gamma = 1+\\frac{1}{n},\n",
    "$$\n",
    "\n",
    "hvor $n$ er *polytropisk indeks*.\n",
    "\n",
    "Vi innfører de dimensjonsløse variable $\\theta$ og $\\xi$ slik at\n",
    "\n",
    "$$\n",
    "\\epsilon=\\epsilon_0 \\theta^{\\,\\left.1\\middle/(\\gamma-1)\\right.}, \\quad\\, \\epsilon_0=\\epsilon(r=0),\n",
    "$$\n",
    "\n",
    "$$\n",
    "r=a\\xi,\\qquad a=\\left[ \\frac{(n+1)Kc^{\\,4}\\epsilon_0^{\\,\\gamma-2}}{4\\pi G} \\right]^{\\left. 1 \\middle/ 2 \\right.},\n",
    "$$\n",
    "\n",
    "der $\\epsilon_0$ og $a$ er konstanter."
   ]
  },
  {
   "cell_type": "markdown",
   "metadata": {},
   "source": [
    "Likning (17) kan da omskrives fra\n",
    "\n",
    "$$\n",
    "\\frac{1}{r^2} \\frac{\\mathrm{d}}{\\mathrm{d}r} \\left( \\frac{r^2}{\\epsilon}\\frac{\\mathrm{d}P}{\\mathrm{d}r} \\right) = -\\frac{4\\pi G \\epsilon \\left(r\\right)}{c^4}.\n",
    "$$\n",
    "\n",
    "$$$$\n",
    "\n",
    "Ved derivasjon av $r$ får vi $\\,\\mathrm{d}r = a\\mathrm{d}\\xi$. \n",
    "Setter inn for $\\mathrm{d}r,\\,\\,r=a\\xi\\,$ og $\\,P=K \\epsilon^{\\,\\gamma}\\,$, og skriver $\\epsilon(r) = \\epsilon\\,$ slik at\n",
    "\n",
    "$$\n",
    "\\frac{1}{(a\\xi)^2} \\frac{1}{a} \\frac{\\mathrm{d}}{\\mathrm{d}\\xi} \\left( \\frac{(a\\xi)^2}{\\epsilon}\\frac{1}{a} \\frac{\\mathrm{d}}{\\mathrm{d}\\xi}\\left[K \\epsilon^{\\,\\gamma}\\right] \\right) = -\\frac{4\\pi G \\epsilon}{c^4},\n",
    "$$\n",
    "\n",
    "$$$$\n",
    "\n",
    "innsatt for $\\,\\epsilon = \\epsilon_0 \\theta^{\\,\\left.1\\middle/(\\gamma-1)\\right.}\\,$ gir\n",
    "\n",
    "$$\n",
    "\\frac{1}{a^2\\xi^2} \\frac{1}{a} \\frac{\\mathrm{d}}{\\mathrm{d}\\xi} \\left( \\frac{a^2\\xi^2}{\\epsilon_0 \\theta^{\\,1/(\\gamma-1)}}\\frac{1}{a} \\frac{\\mathrm{d}}{\\mathrm{d}\\xi}\\left[K \\left(\\epsilon_0 \\theta^{\\,\\left.1\\middle/(\\gamma-1)\\right.}\\right)^{\\,\\gamma}\\right] \\right) = -\\frac{4\\pi G \\epsilon_0 \\theta^{\\,\\left.1\\middle/(\\gamma-1)\\right.}}{c^4}.\n",
    "$$\n",
    "\n",
    "$$$$\n",
    "\n",
    "Da parameterene $a,\\, \\epsilon_0,\\, \\mathrm{og}\\, K$ er konstanter, kan disse faktoriseres på tvers av derivasjoner, og dermed kansellere. Ved å faktorisere og kansellere nødvendige faktorer får vi\n",
    "\n",
    "$$\n",
    "\\frac{K}{a^2\\xi^2} \\cancel{\\frac{1}{a}} \\frac{\\mathrm{d}}{\\mathrm{d}\\xi} \\left( \\frac{\\cancel{a^2}\\xi^2}{\\cancel{\\epsilon_0} \\theta^{\\,\\left.1\\middle/(\\gamma-1)\\right.}}\\cancel{\\frac{1}{a}} \\frac{\\mathrm{d}}{\\mathrm{d}\\xi}\\left[\\left(\\cancel{\\epsilon_0} \\theta^{\\,\\left.1\\middle/(\\gamma-1)\\right.}\\right)^{\\,\\gamma}\\right] \\right) = -\\frac{4\\pi G \\cancelto{\\epsilon_0^{\\,2-\\gamma}}{\\epsilon_0} \\theta^{\\,\\left.1\\middle/(\\gamma-1)\\right.}}{c^4},\n",
    "$$\n",
    "\n",
    "$$$$\n",
    "\n",
    "som dermed kan forenkles til\n",
    "\n",
    "$$\n",
    "\\frac{1}{\\xi^2} \\frac{\\mathrm{d}}{\\mathrm{d}\\xi} \\left( \\frac{\\xi^2}{\\theta^{\\,\\left. 1\\middle/(\\gamma-1)\\right.}} \\frac{\\mathrm{d}}{\\mathrm{d}\\xi}\\left[\\theta^{\\,\\left. \\gamma\\middle/(\\gamma-1) \\right.}\\right] \\right) = -\\frac{4\\pi G \\epsilon_0^{\\,2-\\gamma} a^2}{K c^4} \\theta^{\\,\\left. 1 \\middle/(\\gamma-1) \\right.}.\n",
    "$$\n",
    "\n",
    "$$$$\n",
    "\n",
    "Innsatt for $a^2$ vil brøken på høyre side forkortes, og vi får\n",
    "\n",
    "$$\n",
    "\\frac{1}{\\xi^2} \\frac{\\mathrm{d}}{\\mathrm{d}\\xi} \\frac{\\xi^2}{\\theta^{\\,\\left. 1\\middle/(\\gamma-1) \\right.}} \\underbrace{\\frac{\\mathrm{d}}{\\mathrm{d}\\xi}\\left[\\theta^{\\,\\left. \\gamma \\middle/(\\gamma-1) \\right.}\\right]}_{(\\mathrm{II})} = -\\frac{\\gamma}{\\gamma-1} \\theta^{\\,\\left. 1\\middle/(\\gamma-1) \\right.},\n",
    "$$\n",
    "\n",
    "$$$$\n",
    "\n",
    "hvor $(\\mathrm{II})$ kan omskrives ved kjerneregelen slik at\n",
    "\n",
    "$$\n",
    "\\frac{\\mathrm{d}}{\\mathrm{d}\\xi}\\left[\\theta^{\\,\\left. \\gamma \\middle/(\\gamma-1) \\right.}\\right] = \\frac{\\gamma}{\\gamma-1} \\theta^{\\,\\left. \\gamma\\middle/(\\gamma-1) \\,-1 \\right.} \\frac{\\mathrm{d}\\theta}{\\mathrm{d}\\xi},\n",
    "$$\n",
    "\n",
    "hvor potensen\n",
    "\n",
    "$$\n",
    "\\frac{\\gamma}{\\gamma-1} -1 = \\frac{1}{\\gamma-1}.\n",
    "$$\n",
    "\n",
    "$$$$\n",
    "\n",
    "Innsatt i uttrykket får vi da\n",
    "\n",
    "$$\n",
    "\\frac{1}{\\xi^2} \\frac{\\mathrm{d}}{\\mathrm{d}\\xi} \\frac{\\xi^2}{\\cancel{\\theta^{\\,\\left. 1\\middle/(\\gamma-1) \\right.}}} \\cancel{\\frac{\\gamma}{\\gamma-1}} \\cancel{\\theta^{\\,\\left. 1\\middle/(\\gamma-1) \\right.}} \\frac{\\mathrm{d}\\theta}{\\mathrm{d}\\xi} = -\\cancel{\\frac{\\gamma}{\\gamma-1}} \\theta^{\\,\\left. 1\\middle/(\\gamma-1) \\right.}.\n",
    "$$\n",
    "\n",
    "$$$$\n",
    "\n",
    "Uttrykket blir da\n",
    "\n",
    "$$\n",
    "\\frac{1}{\\xi^2} \\frac{\\mathrm{d}}{\\mathrm{d}\\xi} \\xi^2 \\frac{\\mathrm{d}\\theta}{\\mathrm{d}\\xi} = -\\theta^{\\,\\left. 1\\middle/(\\gamma-1) \\right.} \\qquad{\\mathrm{q.e.d}},\n",
    "$$\n",
    "\n",
    "med $n= \\left. 1\\middle/ (\\gamma-1) \\right.$. Denne ligningen vil herved bli referert til som *Lane-Emden* ligningen."
   ]
  },
  {
   "cell_type": "markdown",
   "metadata": {},
   "source": [
    "<div class=\"text-center\">\n",
    "  <button class=\"alert alert-info\">Oppgave 1b</button>\n",
    "</div>"
   ]
  },
  {
   "cell_type": "code",
   "execution_count": null,
   "metadata": {},
   "outputs": [],
   "source": []
  },
  {
   "cell_type": "markdown",
   "metadata": {},
   "source": [
    "<div class=\"text-center\">\n",
    "  <button class=\"alert alert-info\">Oppgave 2</button>\n",
    "</div>"
   ]
  },
  {
   "cell_type": "markdown",
   "metadata": {},
   "source": [
    "<div class=\"text-center\">\n",
    "  <button class=\"alert alert-info\">Oppgave 3</button>\n",
    "</div>"
   ]
  },
  {
   "cell_type": "code",
   "execution_count": null,
   "metadata": {},
   "outputs": [],
   "source": [
    "# IMPORTS\n",
    "import numpy as np\n",
    "import matplotlib.pyplot as plt\n",
    "\n",
    "# Imported Euler's method from Numfys\n",
    "def full_Euler(h, f, y_0 = 1, start_t = 0, end_t = 1):\n",
    "    \"\"\" A full numerical aproximation of an ODE in a set time interval. Performs consecutive Euler steps\n",
    "    with step size h from start time until the end time. Also takes into account the initial values of the ODE  \n",
    "    Parameters:\n",
    "            h: Step size\n",
    "            f: RHS of our ODE\n",
    "            y_0 : Initial condition for y at t = start_t\n",
    "            start_t : The time at the initial condtion, t_0\n",
    "            end_t : The end of the interval where the Euler method is perfomed, t_N\n",
    "        Returns:\n",
    "            y_list: Numerical approximation of y at times t_list\n",
    "            t_list: Evenly spaced discrete list of time with spacing h. \n",
    "                    Starting time = start_t, and end time = end_t \n",
    "    \"\"\"\n",
    "    # Number of discretisation steps\n",
    "    N = int((end_t - start_t) / h)\n",
    "    # Following the notation in the theory, we have N+1 discrete time values linearly spaced\n",
    "    t_list = np.linspace(start_t, end_t, N + 1)\n",
    "    \n",
    "    # Initialise array to store y-values\n",
    "    y_list = np.zeros(N + 1)\n",
    "    # Assign initial condition to first element\n",
    "    y_list[0] = y_0\n",
    "    \n",
    "    # Assign the rest of the array using N Euler_steps\n",
    "    for i in range(0, N):\n",
    "        y_list[i + 1] = step_Euler(y_list[i], h, f)\n",
    "    return y_list, t_list "
   ]
  }
 ],
 "metadata": {
  "kernelspec": {
   "display_name": "Python 3",
   "language": "python",
   "name": "python3"
  },
  "language_info": {
   "codemirror_mode": {
    "name": "ipython",
    "version": 3
   },
   "file_extension": ".py",
   "mimetype": "text/x-python",
   "name": "python",
   "nbconvert_exporter": "python",
   "pygments_lexer": "ipython3",
   "version": "3.7.1"
  }
 },
 "nbformat": 4,
 "nbformat_minor": 2
}
