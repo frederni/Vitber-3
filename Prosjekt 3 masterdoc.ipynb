{
 "cells": [
  {
   "cell_type": "markdown",
   "metadata": {},
   "source": [
    "# Prosjekt 3 - Kompakte stjerner\n",
    "---\n"
   ]
  },
  {
   "cell_type": "code",
   "execution_count": null,
   "metadata": {},
   "outputs": [],
   "source": [
    "#Theme installation, uncomment to install\n",
    "#Documentation: https://pypi.org/project/jupyterthemes/\n",
    "#!pip install jupyterthemes\n",
    "#!jt -t solarizedl -T -N -tf merriserif -tfs 11 -nf merriserif -nfs 11\n",
    "#Reset command: !jt -r"
   ]
  },
  {
   "cell_type": "markdown",
   "metadata": {},
   "source": [
    "## Huskeliste før commits\n",
    "* **Har du husket ```Restart Kernel & Clear Output```?**\n",
    "* Har du passet på å pulle nyeste commit fra master?\n",
    "* Når du comitter:\n",
    "    * Ha en beskrivende commit melding\n",
    "    * Hvis du får merge conflict og er usikker på hva som skal beholdes, skal alle se på det sammen\n",
    "    * Sjekk alltid at du har ```working tree clean``` på git før du avslutter"
   ]
  },
  {
   "cell_type": "markdown",
   "metadata": {},
   "source": [
    "<div class=\"text-center\">\n",
    "  <button class=\"alert alert-info\">Oppgave 1</button>\n",
    "</div>"
   ]
  },
  {
   "cell_type": "code",
   "execution_count": null,
   "metadata": {},
   "outputs": [],
   "source": []
  },
  {
   "cell_type": "markdown",
   "metadata": {},
   "source": [
    "<div class=\"text-center\">\n",
    "  <button class=\"alert alert-info\">Oppgave 2</button>\n",
    "</div>"
   ]
  },
  {
   "cell_type": "code",
   "execution_count": null,
   "metadata": {},
   "outputs": [],
   "source": []
  },
  {
   "cell_type": "markdown",
   "metadata": {},
   "source": [
    "<div class=\"text-center\">\n",
    "  <button class=\"alert alert-info\">Oppgave 3</button>\n",
    "</div>"
   ]
  },
  {
   "cell_type": "code",
   "execution_count": null,
   "metadata": {},
   "outputs": [],
   "source": [
    "# IMPORTS\n",
    "import numpy as np\n",
    "import matplotlib.pyplot as plt\n",
    "\n",
    "# Imported Euler's method from Numfys\n",
    "def full_Euler(h, f, y_0 = 1, start_t = 0, end_t = 1):\n",
    "    \"\"\" A full numerical aproximation of an ODE in a set time interval. Performs consecutive Euler steps\n",
    "    with step size h from start time until the end time. Also takes into account the initial values of the ODE  \n",
    "    Parameters:\n",
    "            h: Step size\n",
    "            f: RHS of our ODE\n",
    "            y_0 : Initial condition for y at t = start_t\n",
    "            start_t : The time at the initial condtion, t_0\n",
    "            end_t : The end of the interval where the Euler method is perfomed, t_N\n",
    "        Returns:\n",
    "            y_list: Numerical approximation of y at times t_list\n",
    "            t_list: Evenly spaced discrete list of time with spacing h. \n",
    "                    Starting time = start_t, and end time = end_t \n",
    "    \"\"\"\n",
    "    # Number of discretisation steps\n",
    "    N = int((end_t - start_t) / h)\n",
    "    # Following the notation in the theory, we have N+1 discrete time values linearly spaced\n",
    "    t_list = np.linspace(start_t, end_t, N + 1)\n",
    "    \n",
    "    # Initialise array to store y-values\n",
    "    y_list = np.zeros(N + 1)\n",
    "    # Assign initial condition to first element\n",
    "    y_list[0] = y_0\n",
    "    \n",
    "    # Assign the rest of the array using N Euler_steps\n",
    "    for i in range(0, N):\n",
    "        y_list[i + 1] = step_Euler(y_list[i], h, f)\n",
    "    return y_list, t_list "
   ]
  }
 ],
 "metadata": {
  "kernelspec": {
   "display_name": "Python 3",
   "language": "python",
   "name": "python3"
  },
  "language_info": {
   "codemirror_mode": {
    "name": "ipython",
    "version": 3
   },
   "file_extension": ".py",
   "mimetype": "text/x-python",
   "name": "python",
   "nbconvert_exporter": "python",
   "pygments_lexer": "ipython3",
   "version": "3.7.4"
  }
 },
 "nbformat": 4,
 "nbformat_minor": 2
}
