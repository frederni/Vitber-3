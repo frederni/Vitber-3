{
 "cells": [
  {
   "cell_type": "markdown",
   "metadata": {},
   "source": [
    "# Prosjekt 3 - Kompakte stjerner\n",
    "---\n"
   ]
  },
  {
   "cell_type": "code",
   "execution_count": null,
   "metadata": {},
   "outputs": [],
   "source": [
    "#Theme installation, uncomment to install\n",
    "#Documentation: https://pypi.org/project/jupyterthemes/\n",
    "#!pip install jupyterthemes\n",
    "#!jt -t solarizedl -T -N -tf merriserif -tfs 11 -nf merriserif -nfs 11\n",
    "#Reset command: !jt -r"
   ]
  },
  {
   "cell_type": "code",
   "execution_count": null,
   "metadata": {},
   "outputs": [],
   "source": [
    "//To write cancel line in markdown mode\n",
    "%%javascript\n",
    "MathJax.Extension[\"TeX/cancel\"]={version:\"2.4.0\",ALLOWED:{color:1,mathcolor:1,background:1,mathbackground:1,padding:1,thickness:1}};MathJax.Hub.Register.StartupHook(\"TeX Jax Ready\",function(){var c=MathJax.InputJax.TeX,a=MathJax.ElementJax.mml,b=MathJax.Extension[\"TeX/cancel\"];b.setAttributes=function(h,e){if(e!==\"\"){e=e.replace(/ /g,\"\").split(/,/);for(var g=0,d=e.length;g<d;g++){var f=e[g].split(/[:=]/);if(b.ALLOWED[f[0]]){if(f[1]===\"true\"){f[1]=true}if(f[1]===\"false\"){f[1]=false}h[f[0]]=f[1]}}}return h};c.Definitions.Add({macros:{cancel:[\"Cancel\",a.NOTATION.UPDIAGONALSTRIKE],bcancel:[\"Cancel\",a.NOTATION.DOWNDIAGONALSTRIKE],xcancel:[\"Cancel\",a.NOTATION.UPDIAGONALSTRIKE+\" \"+a.NOTATION.DOWNDIAGONALSTRIKE],cancelto:\"CancelTo\"}},null,true);c.Parse.Augment({Cancel:function(e,g){var d=this.GetBrackets(e,\"\"),f=this.ParseArg(e);var h=b.setAttributes({notation:g},d);this.Push(a.menclose(f).With(h))},CancelTo:function(e,g){var i=this.ParseArg(e),d=this.GetBrackets(e,\"\"),f=this.ParseArg(e);var h=b.setAttributes({notation:a.NOTATION.UPDIAGONALSTRIKE+\" \"+a.NOTATION.UPDIAGONALARROW},d);i=a.mpadded(i).With({depth:\"-.1em\",height:\"+.1em\",voffset:\".1em\"});this.Push(a.msup(a.menclose(f).With(h),i))}});MathJax.Hub.Startup.signal.Post(\"TeX cancel Ready\")});MathJax.Ajax.loadComplete(\"[MathJax]/extensions/TeX/cancel.js\");"
   ]
  },
  {
   "cell_type": "markdown",
   "metadata": {},
   "source": [
    "$$\n",
    "a+\\cancel{2}+4 = b+\\cancel{2}-3\n",
    "$$"
   ]
  },
  {
   "cell_type": "markdown",
   "metadata": {},
   "source": [
    "## Huskeliste før commits\n",
    "* **Har du husket ```Restart Kernel & Clear Output```?**\n",
    "* Har du passet på å pulle nyeste commit fra master?\n",
    "* Når du comitter:\n",
    "    * Ha en beskrivende commit melding\n",
    "    * Hvis du får merge conflict og er usikker på hva som skal beholdes, skal alle se på det sammen\n",
    "    * Sjekk alltid at du har ```working tree clean``` på git før du avslutter"
   ]
  },
  {
   "cell_type": "markdown",
   "metadata": {},
   "source": [
    "<div class=\"text-center\">\n",
    "  <button class=\"alert alert-info\">Oppgave 1</button>\n",
    "</div>"
   ]
  },
  {
   "cell_type": "markdown",
   "metadata": {},
   "source": [
    "Vi antar en tilstandsligning for systemet vårt\n",
    "\n",
    "$$\n",
    "P = K \\epsilon^{\\,\\gamma}, \\quad \\gamma = 1+\\frac{1}{n},\n",
    "$$\n",
    "\n",
    "hvor $n$ er *polytropisk indeks*.\n",
    "\n",
    "Vi innfører de dimensjonsløse variable $\\theta$ og $\\xi$ slik at\n",
    "\n",
    "$$\n",
    "\\epsilon=\\epsilon_0 \\theta^{1/(\\gamma-1)}, \\quad\\, \\epsilon_0=\\epsilon(r=0)\n",
    "$$\n",
    "\n",
    "$$\n",
    "r=a\\xi,\\qquad a=\\left[ \\frac{(n+1)Kc^{\\,4}\\epsilon_0^{\\,\\gamma-2}}{4\\pi G} \\right]^{1/2}\n",
    "$$"
   ]
  },
  {
   "cell_type": "raw",
   "metadata": {},
   "source": [
    "SPM: Eller vil vi ha sånt oppsett?:\n",
    "\n",
    "med konstantene\n",
    "\n",
    "$\n",
    "\\qquad \\epsilon_0=\\epsilon(r=0)\n",
    "$\n",
    "\n",
    "$\n",
    "\\qquad a=\\left[ \\frac{(n+1)Kc^{\\,4}\\epsilon_0^{\\,\\gamma-2}}{4\\pi G} \\right]^{1/2}\n",
    "$"
   ]
  },
  {
   "cell_type": "markdown",
   "metadata": {},
   "source": [
    "Likning (17) kan da omskrives fra\n",
    "\n",
    "$$\n",
    "\\frac{1}{r^2} \\frac{\\mathrm{d}}{\\mathrm{d}r} \\left( \\frac{r^2}{\\epsilon}\\frac{\\mathrm{d}P}{\\mathrm{d}r} \\right) = -\\frac{4\\pi G \\epsilon \\left(r\\right)}{c^4}.\n",
    "$$\n",
    "\n",
    "Setter først inn for $\\,r=a\\xi\\,$ og $\\,P=K \\epsilon^{\\,\\gamma}\\,$ slik at\n",
    "\n",
    "$$\n",
    "\\frac{1}{(a\\xi)^2} \\frac{\\mathrm{d}}{\\mathrm{d}(a\\xi)} \\left( \\frac{(a\\xi)^2}{\\epsilon}\\frac{\\mathrm{d}}{\\mathrm{d}{(a\\xi)}}\\left[K \\epsilon^{\\,\\gamma}\\right] \\right) = -\\frac{4\\pi G \\epsilon \\left({a\\xi}\\right)}{c^4},\n",
    "$$\n",
    "\n",
    "innsatt for $\\,\\epsilon = \\epsilon_0 \\theta^{1/(\\gamma-1)}\\,$ gir\n",
    "\n",
    "$$\n",
    "\\frac{1}{(a\\xi)^2} \\frac{\\mathrm{d}}{\\mathrm{d}(a\\xi)} \\left( \\frac{(a\\xi)^2}{\\epsilon_0 \\theta^{1/(\\gamma-1)}}\\frac{\\mathrm{d}}{\\mathrm{d}{(a\\xi)}}\\left[K \\left(\\epsilon_0 \\theta^{1/(\\gamma-1)}\\right)^{\\,\\gamma}\\right] \\right) = -\\frac{4\\pi G (\\epsilon_0 \\theta^{1/(\\gamma-1)}) \\left({a\\xi}\\right)}{c^4},\n",
    "$$\n",
    "\n",
    "faktoriserer ut konstantene (!!!!)\n",
    "\n",
    "$$\n",
    "\\frac{1}{a^2\\xi^2} \\frac{\\mathrm{d}}{\\mathrm{d}(a\\xi)} \\left( \\frac{(a\\xi)^2}{\\epsilon_0 \\theta^{1/(\\gamma-1)}}\\frac{\\mathrm{d}}{\\mathrm{d}{(a\\xi)}}\\left[K \\left(\\epsilon_0 \\theta^{1/(\\gamma-1)}\\right)^{\\,\\gamma}\\right] \\right) = -\\frac{4\\pi G (\\epsilon_0 \\theta^{1/(\\gamma-1)}) \\left({a\\xi}\\right)}{c^4},\n",
    "$$\n",
    "\n",
    "\n",
    "løser derivasjonen\n",
    "\n",
    "$$\n",
    "\\frac{1}{(a\\xi)^2} \\frac{\\mathrm{d}}{\\mathrm{d}(a\\xi)} \\left( \\frac{(a\\xi)^2}{\\epsilon}\\frac{\\mathrm{d}}{\\mathrm{d}{(a\\xi)}}\\left[K \\epsilon^{\\,\\gamma}\\right] \\right) = -\\frac{4\\pi G \\epsilon \\left({a\\xi}\\right)}{c^4},\n",
    "$$\n",
    "\n",
    "\n",
    "\n",
    "innsatt for $a$ gir\n",
    "\n",
    "$$\n",
    "\\frac{1}{\\left[ \\frac{(n+1)Kc^{\\,4}\\epsilon_0^{\\,\\gamma-2}}{4\\pi G} \\right] \\xi^2} \\frac{\\mathrm{d}}{\\mathrm{d}(\\left[ \\frac{(n+1)Kc^{\\,4}\\epsilon_0^{\\,\\gamma-2}}{4\\pi G} \\right]^{1/2}\\xi)} \\left( \\frac{\\left[ \\frac{(n+1)Kc^{\\,4}\\epsilon_0^{\\,\\gamma-2}}{4\\pi G} \\right] \\xi^2}{\\epsilon}\\frac{\\mathrm{d}}{\\mathrm{d}{(\\left[ \\frac{(n+1)Kc^{\\,4}\\epsilon_0^{\\,\\gamma-2}}{4\\pi G} \\right]^{1/2}\\xi)}}\\left[K \\epsilon^{\\,\\gamma}\\right] \\right) = -\\frac{4\\pi G \\epsilon \\left({\\left[ \\frac{(n+1)Kc^{\\,4}\\epsilon_0^{\\,\\gamma-2}}{4\\pi G} \\right]^{1/2}\\xi}\\right)}{c^4},\n",
    "$$"
   ]
  },
  {
   "cell_type": "markdown",
   "metadata": {},
   "source": [
    "<div class=\"text-center\">\n",
    "  <button class=\"alert alert-info\">Oppgave 2</button>\n",
    "</div>"
   ]
  },
  {
   "cell_type": "markdown",
   "metadata": {},
   "source": [
    "<div class=\"text-center\">\n",
    "  <button class=\"alert alert-info\">Oppgave 3</button>\n",
    "</div>"
   ]
  },
  {
   "cell_type": "code",
   "execution_count": null,
   "metadata": {},
   "outputs": [],
   "source": [
    "# IMPORTS\n",
    "import numpy as np\n",
    "import matplotlib.pyplot as plt\n",
    "\n",
    "# Imported Euler's method from Numfys\n",
    "def full_Euler(h, f, y_0 = 1, start_t = 0, end_t = 1):\n",
    "    \"\"\" A full numerical aproximation of an ODE in a set time interval. Performs consecutive Euler steps\n",
    "    with step size h from start time until the end time. Also takes into account the initial values of the ODE  \n",
    "    Parameters:\n",
    "            h: Step size\n",
    "            f: RHS of our ODE\n",
    "            y_0 : Initial condition for y at t = start_t\n",
    "            start_t : The time at the initial condtion, t_0\n",
    "            end_t : The end of the interval where the Euler method is perfomed, t_N\n",
    "        Returns:\n",
    "            y_list: Numerical approximation of y at times t_list\n",
    "            t_list: Evenly spaced discrete list of time with spacing h. \n",
    "                    Starting time = start_t, and end time = end_t \n",
    "    \"\"\"\n",
    "    # Number of discretisation steps\n",
    "    N = int((end_t - start_t) / h)\n",
    "    # Following the notation in the theory, we have N+1 discrete time values linearly spaced\n",
    "    t_list = np.linspace(start_t, end_t, N + 1)\n",
    "    \n",
    "    # Initialise array to store y-values\n",
    "    y_list = np.zeros(N + 1)\n",
    "    # Assign initial condition to first element\n",
    "    y_list[0] = y_0\n",
    "    \n",
    "    # Assign the rest of the array using N Euler_steps\n",
    "    for i in range(0, N):\n",
    "        y_list[i + 1] = step_Euler(y_list[i], h, f)\n",
    "    return y_list, t_list "
   ]
  },
  {
   "cell_type": "code",
   "execution_count": 15,
   "metadata": {},
   "outputs": [
    {
     "data": {
      "image/png": "[encoded data removed]",
      "text/plain": [
       "<Figure size 1296x432 with 1 Axes>"
      ]
     },
     "metadata": {
      "needs_background": "light"
     },
     "output_type": "display_data"
    }
   ],
   "source": [
    "import numpy as np\n",
    "import matplotlib.pyplot as plt\n",
    "\n",
    "def RK4_step(w, x, h, f, deg):\n",
    "    k1 = f(w, x, deg)\n",
    "    k2 = f(w+k1/2, x+h/2, deg)\n",
    "    k3 = f(w+k2/2, x+h/2, deg)\n",
    "    k4 = f(w+k3, x+h, deg)\n",
    "    return w + h/6*(k1+2*k2+2*k3+k4)\n",
    "\n",
    "def g(w, t, deg):\n",
    "# The same function as we have in Euler's method\n",
    "    next_w = np.zeros(deg)\n",
    "    next_w[0] = w[1]\n",
    "    next_w[1] = -2/t * w[1] - w[0] #blir det riktig å sette xi = t?\n",
    "    return next_w\n",
    "\n",
    "def RungeKutta4(h, init_cond, x0, xend, f):\n",
    "    deg = len(init_cond) # 2 in our case\n",
    "    N = int((xend - x0) / h)\n",
    "    #print(\"N\", N, \"x0\", x0, \"xend\", xend)\n",
    "    x_list = np.linspace(x0, xend, N + 1)\n",
    "    M = np.zeros((deg, N + 1)) # Matrix as in Euler's method\n",
    "    M[:, 0] = init_cond # Storing the initial conditions, in our case np.array([1,0])\n",
    "    for i in range(0, N):\n",
    "        M[:,i+1] = RK4_step(M[:,i], x_list[i], h, f, deg)\n",
    "    return M, x_list\n",
    "\n",
    "M_RK, t_RK = RungeKutta4(0.01, np.array([1,0]), 0.0001, 25, g)\n",
    "#                       ( h,   init_cond,       x0,     xend, f)\n",
    "\n",
    "fig = plt.figure(figsize=(18, 6))  # Create figure and determine size\n",
    "\n",
    "ax1 = plt.subplot(131)\n",
    "ax1.set_title(\"h = 0.01\")\n",
    "ax1.set_xlabel(\"\\u03BE\")\n",
    "ax1.set_ylabel(\"\\u03B8\")\n",
    "ax1.plot(t_RK, M_RK[0], label = \"numeric\")\n",
    "ax1.plot(t_RK,np.sin(t_RK)/t_RK, label = \"analytic\")\n",
    "ax1.legend()\n",
    "fig.tight_layout()\n",
    "plt.xlim(0,20)\n",
    "plt.show()\n",
    "\n",
    "\n",
    "## For Lane Embden:\n",
    "# x0 = 0.0001, xend = 100\n",
    "# init condition np.array([1,0]) == theta(0), theta'(0)??"
   ]
  },
  {
   "cell_type": "code",
   "execution_count": null,
   "metadata": {},
   "outputs": [],
   "source": []
  }
 ],
 "metadata": {
  "kernelspec": {
   "display_name": "Python 3",
   "language": "python",
   "name": "python3"
  },
  "language_info": {
   "codemirror_mode": {
    "name": "ipython",
    "version": 3
   },
   "file_extension": ".py",
   "mimetype": "text/x-python",
   "name": "python",
   "nbconvert_exporter": "python",
   "pygments_lexer": "ipython3",
   "version": "3.7.4"
  }
 },
 "nbformat": 4,
 "nbformat_minor": 2
}
